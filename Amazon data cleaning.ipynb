{
 "cells": [
  {
   "cell_type": "code",
   "execution_count": null,
   "id": "1773af56",
   "metadata": {},
   "outputs": [],
   "source": [
    "import pandas as pd\n",
    "\n",
    "df1=pd.read_csv('C:/Users/amrit/Documents/Anagha/Data Science/PROJECTS/Data visualization/Amazon.csv')\n",
    "df1=df1.dropna()\n",
    "df1.shape\n",
    "df1.dtypes\n",
    "\n",
    "df1['Review stars']=df1['Review stars'].str.replace(\" out of 5 stars\",\"\")\n",
    "df1['Capacity']=df1['Capacity'].str.replace(\"Capacity \",\"\")\n",
    "df1['Capacity']=df1['Capacity'].str.replace(\" Kilograms\",\"\")\n",
    "df1['Access Location']=df1['Access Location'].str.replace(\"Access Location \",\"\")\n",
    "df1.rename(columns = {'Capacity':'Capacity(Kg)'}, inplace = True)\n",
    "\n",
    "df1"
   ]
  }
 ],
 "metadata": {
  "kernelspec": {
   "display_name": "Python 3 (ipykernel)",
   "language": "python",
   "name": "python3"
  },
  "language_info": {
   "codemirror_mode": {
    "name": "ipython",
    "version": 3
   },
   "file_extension": ".py",
   "mimetype": "text/x-python",
   "name": "python",
   "nbconvert_exporter": "python",
   "pygments_lexer": "ipython3",
   "version": "3.9.12"
  }
 },
 "nbformat": 4,
 "nbformat_minor": 5
}
